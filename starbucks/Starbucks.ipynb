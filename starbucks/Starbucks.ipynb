{
  "nbformat": 4,
  "nbformat_minor": 0,
  "metadata": {
    "colab": {
      "provenance": [],
      "collapsed_sections": [],
      "authorship_tag": "ABX9TyMdTdx2Z8kUGRA/kPae6IM7",
      "include_colab_link": true
    },
    "kernelspec": {
      "name": "python3",
      "display_name": "Python 3"
    },
    "language_info": {
      "name": "python"
    }
  },
  "cells": [
    {
      "cell_type": "markdown",
      "metadata": {
        "id": "view-in-github",
        "colab_type": "text"
      },
      "source": [
        "<a href=\"https://colab.research.google.com/github/Ananya-AJ/CMPE256-AdvDataMining/blob/main/starbucks/Starbucks.ipynb\" target=\"_parent\"><img src=\"https://colab.research.google.com/assets/colab-badge.svg\" alt=\"Open In Colab\"/></a>"
      ]
    },
    {
      "cell_type": "markdown",
      "source": [
        "#Problem Statement: Starbucks wants to offer sales coupons to customers based on time visit to the store."
      ],
      "metadata": {
        "id": "YqUbfsB45SRU"
      }
    },
    {
      "cell_type": "markdown",
      "source": [
        "##Importing libraries"
      ],
      "metadata": {
        "id": "lqy0n-yR5UB_"
      }
    },
    {
      "cell_type": "code",
      "execution_count": null,
      "metadata": {
        "id": "zfAShRmMxRfn"
      },
      "outputs": [],
      "source": [
        "import numpy as np\n",
        "import matplotlib.pyplot as plt \n",
        "import pandas as pd \n",
        "%matplotlib inline\n",
        "import scipy.cluster.hierarchy as shc\n",
        "from scipy.spatial.distance import squareform, pdist\n",
        "from scipy.spatial import distance_matrix \n",
        "import seaborn as sns\n",
        "from sklearn import manifold, datasets \n",
        "from sklearn.cluster import AgglomerativeClustering \n",
        "from sklearn.metrics import silhouette_score"
      ]
    },
    {
      "cell_type": "markdown",
      "source": [
        "##Using Hierarchical clustering (Agglomerative-single link, average link, complete link) to solve the problem statement."
      ],
      "metadata": {
        "id": "nuPHGEOj5oCc"
      }
    },
    {
      "cell_type": "markdown",
      "source": [
        "##Reading data into dataframe"
      ],
      "metadata": {
        "id": "iZv2TmH66Loo"
      }
    },
    {
      "cell_type": "code",
      "source": [
        "starbucks = pd.read_csv('/content/starbucks.csv') # read the data\n",
        "starbucks.head()"
      ],
      "metadata": {
        "colab": {
          "base_uri": "https://localhost:8080/",
          "height": 206
        },
        "id": "6VtOjC636G0v",
        "outputId": "feadc230-0c93-4058-91da-046e81e2d325"
      },
      "execution_count": null,
      "outputs": [
        {
          "output_type": "execute_result",
          "data": {
            "text/plain": [
              "   PTIndex  HBIndex\n",
              "0        1        5\n",
              "1        1        7\n",
              "2        2        6\n",
              "3        2        9\n",
              "4        3        6"
            ],
            "text/html": [
              "\n",
              "  <div id=\"df-79393b5c-243c-48b0-9217-b3e540bcb81e\">\n",
              "    <div class=\"colab-df-container\">\n",
              "      <div>\n",
              "<style scoped>\n",
              "    .dataframe tbody tr th:only-of-type {\n",
              "        vertical-align: middle;\n",
              "    }\n",
              "\n",
              "    .dataframe tbody tr th {\n",
              "        vertical-align: top;\n",
              "    }\n",
              "\n",
              "    .dataframe thead th {\n",
              "        text-align: right;\n",
              "    }\n",
              "</style>\n",
              "<table border=\"1\" class=\"dataframe\">\n",
              "  <thead>\n",
              "    <tr style=\"text-align: right;\">\n",
              "      <th></th>\n",
              "      <th>PTIndex</th>\n",
              "      <th>HBIndex</th>\n",
              "    </tr>\n",
              "  </thead>\n",
              "  <tbody>\n",
              "    <tr>\n",
              "      <th>0</th>\n",
              "      <td>1</td>\n",
              "      <td>5</td>\n",
              "    </tr>\n",
              "    <tr>\n",
              "      <th>1</th>\n",
              "      <td>1</td>\n",
              "      <td>7</td>\n",
              "    </tr>\n",
              "    <tr>\n",
              "      <th>2</th>\n",
              "      <td>2</td>\n",
              "      <td>6</td>\n",
              "    </tr>\n",
              "    <tr>\n",
              "      <th>3</th>\n",
              "      <td>2</td>\n",
              "      <td>9</td>\n",
              "    </tr>\n",
              "    <tr>\n",
              "      <th>4</th>\n",
              "      <td>3</td>\n",
              "      <td>6</td>\n",
              "    </tr>\n",
              "  </tbody>\n",
              "</table>\n",
              "</div>\n",
              "      <button class=\"colab-df-convert\" onclick=\"convertToInteractive('df-79393b5c-243c-48b0-9217-b3e540bcb81e')\"\n",
              "              title=\"Convert this dataframe to an interactive table.\"\n",
              "              style=\"display:none;\">\n",
              "        \n",
              "  <svg xmlns=\"http://www.w3.org/2000/svg\" height=\"24px\"viewBox=\"0 0 24 24\"\n",
              "       width=\"24px\">\n",
              "    <path d=\"M0 0h24v24H0V0z\" fill=\"none\"/>\n",
              "    <path d=\"M18.56 5.44l.94 2.06.94-2.06 2.06-.94-2.06-.94-.94-2.06-.94 2.06-2.06.94zm-11 1L8.5 8.5l.94-2.06 2.06-.94-2.06-.94L8.5 2.5l-.94 2.06-2.06.94zm10 10l.94 2.06.94-2.06 2.06-.94-2.06-.94-.94-2.06-.94 2.06-2.06.94z\"/><path d=\"M17.41 7.96l-1.37-1.37c-.4-.4-.92-.59-1.43-.59-.52 0-1.04.2-1.43.59L10.3 9.45l-7.72 7.72c-.78.78-.78 2.05 0 2.83L4 21.41c.39.39.9.59 1.41.59.51 0 1.02-.2 1.41-.59l7.78-7.78 2.81-2.81c.8-.78.8-2.07 0-2.86zM5.41 20L4 18.59l7.72-7.72 1.47 1.35L5.41 20z\"/>\n",
              "  </svg>\n",
              "      </button>\n",
              "      \n",
              "  <style>\n",
              "    .colab-df-container {\n",
              "      display:flex;\n",
              "      flex-wrap:wrap;\n",
              "      gap: 12px;\n",
              "    }\n",
              "\n",
              "    .colab-df-convert {\n",
              "      background-color: #E8F0FE;\n",
              "      border: none;\n",
              "      border-radius: 50%;\n",
              "      cursor: pointer;\n",
              "      display: none;\n",
              "      fill: #1967D2;\n",
              "      height: 32px;\n",
              "      padding: 0 0 0 0;\n",
              "      width: 32px;\n",
              "    }\n",
              "\n",
              "    .colab-df-convert:hover {\n",
              "      background-color: #E2EBFA;\n",
              "      box-shadow: 0px 1px 2px rgba(60, 64, 67, 0.3), 0px 1px 3px 1px rgba(60, 64, 67, 0.15);\n",
              "      fill: #174EA6;\n",
              "    }\n",
              "\n",
              "    [theme=dark] .colab-df-convert {\n",
              "      background-color: #3B4455;\n",
              "      fill: #D2E3FC;\n",
              "    }\n",
              "\n",
              "    [theme=dark] .colab-df-convert:hover {\n",
              "      background-color: #434B5C;\n",
              "      box-shadow: 0px 1px 3px 1px rgba(0, 0, 0, 0.15);\n",
              "      filter: drop-shadow(0px 1px 2px rgba(0, 0, 0, 0.3));\n",
              "      fill: #FFFFFF;\n",
              "    }\n",
              "  </style>\n",
              "\n",
              "      <script>\n",
              "        const buttonEl =\n",
              "          document.querySelector('#df-79393b5c-243c-48b0-9217-b3e540bcb81e button.colab-df-convert');\n",
              "        buttonEl.style.display =\n",
              "          google.colab.kernel.accessAllowed ? 'block' : 'none';\n",
              "\n",
              "        async function convertToInteractive(key) {\n",
              "          const element = document.querySelector('#df-79393b5c-243c-48b0-9217-b3e540bcb81e');\n",
              "          const dataTable =\n",
              "            await google.colab.kernel.invokeFunction('convertToInteractive',\n",
              "                                                     [key], {});\n",
              "          if (!dataTable) return;\n",
              "\n",
              "          const docLinkHtml = 'Like what you see? Visit the ' +\n",
              "            '<a target=\"_blank\" href=https://colab.research.google.com/notebooks/data_table.ipynb>data table notebook</a>'\n",
              "            + ' to learn more about interactive tables.';\n",
              "          element.innerHTML = '';\n",
              "          dataTable['output_type'] = 'display_data';\n",
              "          await google.colab.output.renderOutput(dataTable, element);\n",
              "          const docLink = document.createElement('div');\n",
              "          docLink.innerHTML = docLinkHtml;\n",
              "          element.appendChild(docLink);\n",
              "        }\n",
              "      </script>\n",
              "    </div>\n",
              "  </div>\n",
              "  "
            ]
          },
          "metadata": {},
          "execution_count": 3
        }
      ]
    },
    {
      "cell_type": "markdown",
      "source": [
        "##Scatterplot to see the the customers choice of beverage vs popular times on wednesday when starbucks is crowded"
      ],
      "metadata": {
        "id": "GSKdyGWf6aql"
      }
    },
    {
      "cell_type": "code",
      "source": [
        "plt.figure(figsize=(8,5))\n",
        "plt.scatter(starbucks['PTIndex'], starbucks['HBIndex'], c='r', marker='*')\n",
        "plt.xlabel('Column x')\n",
        "plt.ylabel('column y')\n",
        "plt.title('Scatter Plot of x and y') \n",
        "for j in starbucks.itertuples():\n",
        "    plt.annotate(j.Index, (j.PTIndex, j.HBIndex), fontsize=15)"
      ],
      "metadata": {
        "colab": {
          "base_uri": "https://localhost:8080/",
          "height": 350
        },
        "id": "yYRfG-CO6woK",
        "outputId": "df4dfdb5-55fa-41c9-bd9d-669f00b210f7"
      },
      "execution_count": null,
      "outputs": [
        {
          "output_type": "display_data",
          "data": {
            "text/plain": [
              "<Figure size 576x360 with 1 Axes>"
            ],
            "image/png": "[encoded data removed]"
          },
          "metadata": {
            "needs_background": "light"
          }
        }
      ]
    },
    {
      "cell_type": "markdown",
      "source": [
        "##Get three clusters of popular times on a wednesday to find the cluster that has maximum number of customers during that time as Starbucks wants maximum three popular time slots of the day to offer coupon."
      ],
      "metadata": {
        "id": "Qbk3cd747dwZ"
      }
    },
    {
      "cell_type": "markdown",
      "source": [
        "##Determining the optimal number of clusters using silhouette"
      ],
      "metadata": {
        "id": "Ad3y041N_7Fa"
      }
    },
    {
      "cell_type": "code",
      "source": [
        "silhouette_scores = [] \n",
        "\n",
        "for n_cluster in range(2, 8):\n",
        "    silhouette_scores.append( \n",
        "        silhouette_score(starbucks, AgglomerativeClustering(n_clusters = n_cluster).fit_predict(starbucks))) \n",
        "    \n",
        "# Plotting a bar graph to compare the results \n",
        "k = [2, 3, 4, 5, 6,7] \n",
        "plt.bar(k, silhouette_scores) \n",
        "plt.xlabel('Number of clusters', fontsize = 10) \n",
        "plt.ylabel('Silhouette Score', fontsize = 10) \n",
        "plt.show() "
      ],
      "metadata": {
        "colab": {
          "base_uri": "https://localhost:8080/",
          "height": 279
        },
        "id": "-Hamxg1w_-le",
        "outputId": "96441888-87d5-49a4-b0e4-de455c3d23ce"
      },
      "execution_count": null,
      "outputs": [
        {
          "output_type": "display_data",
          "data": {
            "text/plain": [
              "<Figure size 432x288 with 1 Axes>"
            ],
            "image/png": "[encoded data removed]"
          },
          "metadata": {
            "needs_background": "light"
          }
        }
      ]
    },
    {
      "cell_type": "markdown",
      "source": [
        "##Using single link technique to solve"
      ],
      "metadata": {
        "id": "hPCRpfhF8HMI"
      }
    },
    {
      "cell_type": "code",
      "source": [
        "from sklearn.cluster import AgglomerativeClustering\n",
        "\n",
        "clustering_model = AgglomerativeClustering(n_clusters=3, affinity='euclidean', linkage='single')\n",
        "clustering_model.fit(starbucks)\n",
        "clustering_model.labels_"
      ],
      "metadata": {
        "colab": {
          "base_uri": "https://localhost:8080/"
        },
        "id": "XVIGC_Sm74R6",
        "outputId": "ce055f10-63d7-4214-e0db-8a1d8b1ef90d"
      },
      "execution_count": null,
      "outputs": [
        {
          "output_type": "execute_result",
          "data": {
            "text/plain": [
              "array([0, 0, 0, 0, 0, 0, 0, 0, 0, 0, 0, 0, 0, 2, 2, 0, 2, 1])"
            ]
          },
          "metadata": {},
          "execution_count": 9
        }
      ]
    },
    {
      "cell_type": "code",
      "source": [
        "data_labels = clustering_model.labels_\n",
        "sns.scatterplot(x='PTIndex', \n",
        "                y='HBIndex', \n",
        "                data=starbucks, \n",
        "                hue=data_labels,\n",
        "                ).set_title('data points')"
      ],
      "metadata": {
        "colab": {
          "base_uri": "https://localhost:8080/",
          "height": 313
        },
        "id": "qMb70GCR8h2e",
        "outputId": "5f6010dc-59bd-4b52-a3da-fb3769551d0b"
      },
      "execution_count": null,
      "outputs": [
        {
          "output_type": "execute_result",
          "data": {
            "text/plain": [
              "Text(0.5, 1.0, 'data points')"
            ]
          },
          "metadata": {},
          "execution_count": 11
        },
        {
          "output_type": "display_data",
          "data": {
            "text/plain": [
              "<Figure size 432x288 with 1 Axes>"
            ],
            "image/png": "[encoded data removed]"
          },
          "metadata": {
            "needs_background": "light"
          }
        }
      ]
    },
    {
      "cell_type": "code",
      "source": [
        "single_agg = AgglomerativeClustering(affinity='euclidean', compute_full_tree='auto',\n",
        "                        connectivity=None, distance_threshold=None,\n",
        "                        linkage='single', memory=None, n_clusters=3,\n",
        "                        )\n",
        "single_agg.fit(starbucks)"
      ],
      "metadata": {
        "colab": {
          "base_uri": "https://localhost:8080/"
        },
        "id": "ZbGcfuk292wO",
        "outputId": "25b4215d-7266-458d-e741-37bf23835c94"
      },
      "execution_count": null,
      "outputs": [
        {
          "output_type": "execute_result",
          "data": {
            "text/plain": [
              "AgglomerativeClustering(linkage='single', n_clusters=3)"
            ]
          },
          "metadata": {},
          "execution_count": 14
        }
      ]
    },
    {
      "cell_type": "markdown",
      "source": [
        "##Visualizing clusters, Single link fits the data in two clusters. 7:00am-12:00 and 1:00-4:00 looks popular times to distribute the coupons. "
      ],
      "metadata": {
        "id": "RWJgPuSw-McA"
      }
    },
    {
      "cell_type": "code",
      "source": [
        "plt.scatter(starbucks['PTIndex'], starbucks['HBIndex'],  \n",
        "           c = single_agg.fit_predict(starbucks), cmap =plt.cm.winter) \n",
        "plt.show() "
      ],
      "metadata": {
        "colab": {
          "base_uri": "https://localhost:8080/",
          "height": 265
        },
        "id": "lB5z54HG-Rj1",
        "outputId": "38acfebf-b39b-4c32-832f-733fa27e3aa2"
      },
      "execution_count": null,
      "outputs": [
        {
          "output_type": "display_data",
          "data": {
            "text/plain": [
              "<Figure size 432x288 with 1 Axes>"
            ],
            "image/png": "[encoded data removed]"
          },
          "metadata": {
            "needs_background": "light"
          }
        }
      ]
    },
    {
      "cell_type": "markdown",
      "source": [
        "##Dendogram of single link starbucks clusters"
      ],
      "metadata": {
        "id": "yazz1fvS-kYQ"
      }
    },
    {
      "cell_type": "code",
      "source": [
        "plt.figure(figsize =(6, 6)) \n",
        "plt.title('Visualising the data') \n",
        "Dendrogram = shc.dendrogram((shc.linkage(starbucks, method ='single'))) "
      ],
      "metadata": {
        "colab": {
          "base_uri": "https://localhost:8080/",
          "height": 393
        },
        "id": "5ZkQVvZ0-pc_",
        "outputId": "66b14f7b-53dc-4984-e0d8-13b1327ca6a2"
      },
      "execution_count": null,
      "outputs": [
        {
          "output_type": "display_data",
          "data": {
            "text/plain": [
              "<Figure size 432x432 with 1 Axes>"
            ],
            "image/png": "[encoded data removed]"
          },
          "metadata": {
            "needs_background": "light"
          }
        }
      ]
    },
    {
      "cell_type": "markdown",
      "source": [
        "##Using Average link technique to solve"
      ],
      "metadata": {
        "id": "5iTOx9p3-t1q"
      }
    },
    {
      "cell_type": "code",
      "source": [
        "Average_agg = AgglomerativeClustering(affinity='euclidean', compute_full_tree='auto',\n",
        "                        connectivity=None, distance_threshold=None,\n",
        "                        linkage='average', memory=None, n_clusters=3,\n",
        "                        )\n",
        "Average_agg.fit(starbucks)"
      ],
      "metadata": {
        "colab": {
          "base_uri": "https://localhost:8080/"
        },
        "id": "_s2crvKm-3gR",
        "outputId": "f6921bcb-3f6e-4f4e-e9d0-c6624e2c97ae"
      },
      "execution_count": null,
      "outputs": [
        {
          "output_type": "execute_result",
          "data": {
            "text/plain": [
              "AgglomerativeClustering(linkage='average', n_clusters=3)"
            ]
          },
          "metadata": {},
          "execution_count": 17
        }
      ]
    },
    {
      "cell_type": "markdown",
      "source": [
        "##Visualizing clusters. According to average link clustering, popular times are 6:00 am - 12:00 noon is the best time amongst three clusters to distribute coupons."
      ],
      "metadata": {
        "id": "ygYhFjE6_LsW"
      }
    },
    {
      "cell_type": "code",
      "source": [
        "plt.scatter(starbucks['PTIndex'], starbucks['HBIndex'],  \n",
        "           c = Average_agg.fit_predict(starbucks), cmap =plt.cm.winter) \n",
        "plt.show() "
      ],
      "metadata": {
        "colab": {
          "base_uri": "https://localhost:8080/",
          "height": 265
        },
        "id": "JrWESw3H_MQs",
        "outputId": "def6fdc4-0c41-409b-f229-af3d69c247a2"
      },
      "execution_count": null,
      "outputs": [
        {
          "output_type": "display_data",
          "data": {
            "text/plain": [
              "<Figure size 432x288 with 1 Axes>"
            ],
            "image/png": "[encoded data removed]"
          },
          "metadata": {
            "needs_background": "light"
          }
        }
      ]
    },
    {
      "cell_type": "markdown",
      "source": [
        "##Dendogram for Average link clusters"
      ],
      "metadata": {
        "id": "_1CNAR9bDLxm"
      }
    },
    {
      "cell_type": "code",
      "source": [
        "plt.figure(figsize =(6, 6)) \n",
        "plt.title('Visualising the data') \n",
        "Dendrogram = shc.dendrogram((shc.linkage(starbucks, method ='average'))) "
      ],
      "metadata": {
        "colab": {
          "base_uri": "https://localhost:8080/",
          "height": 393
        },
        "id": "Z7JNN1y_DRHF",
        "outputId": "16ee05fe-a3e7-4de6-a52f-91a42a585357"
      },
      "execution_count": null,
      "outputs": [
        {
          "output_type": "display_data",
          "data": {
            "text/plain": [
              "<Figure size 432x432 with 1 Axes>"
            ],
            "image/png": "[encoded data removed]"
          },
          "metadata": {
            "needs_background": "light"
          }
        }
      ]
    },
    {
      "cell_type": "markdown",
      "source": [
        "##Using complete link technique to solve"
      ],
      "metadata": {
        "id": "OlGhgduADVuJ"
      }
    },
    {
      "cell_type": "code",
      "source": [
        "complete_agg = AgglomerativeClustering(affinity='euclidean', compute_full_tree='auto',\n",
        "                        connectivity=None, distance_threshold=None,\n",
        "                        linkage='complete', memory=None, n_clusters=3,\n",
        "                        )\n",
        "Average_agg.fit(starbucks)"
      ],
      "metadata": {
        "colab": {
          "base_uri": "https://localhost:8080/"
        },
        "id": "cQj6GbmlDdK5",
        "outputId": "ad43b846-158a-48f1-ee0d-cf9bd77e428e"
      },
      "execution_count": null,
      "outputs": [
        {
          "output_type": "execute_result",
          "data": {
            "text/plain": [
              "AgglomerativeClustering(linkage='average', n_clusters=3)"
            ]
          },
          "metadata": {},
          "execution_count": 23
        }
      ]
    },
    {
      "cell_type": "markdown",
      "source": [
        "##Visualizing clusters. According to average link clustering, popular times are 6:00 am - 9:00, 10:00-1:00 ,3:00-7:00 are best time to distribute coupons."
      ],
      "metadata": {
        "id": "-snG0P-8Du-z"
      }
    },
    {
      "cell_type": "code",
      "source": [
        "plt.scatter(starbucks['PTIndex'], starbucks['HBIndex'],  \n",
        "           c = complete_agg.fit_predict(starbucks), cmap =plt.cm.winter) \n",
        "plt.show() "
      ],
      "metadata": {
        "colab": {
          "base_uri": "https://localhost:8080/",
          "height": 265
        },
        "id": "v1xmLsQUDvul",
        "outputId": "55a192ba-bf02-4ff9-8331-d15b801a3a37"
      },
      "execution_count": null,
      "outputs": [
        {
          "output_type": "display_data",
          "data": {
            "text/plain": [
              "<Figure size 432x288 with 1 Axes>"
            ],
            "image/png": "[encoded data removed]"
          },
          "metadata": {
            "needs_background": "light"
          }
        }
      ]
    },
    {
      "cell_type": "markdown",
      "source": [
        "##Dendogram for complete link clusters"
      ],
      "metadata": {
        "id": "LEKY3OthEYpW"
      }
    },
    {
      "cell_type": "code",
      "source": [
        "plt.figure(figsize =(6, 6)) \n",
        "plt.title('Visualising the data') \n",
        "Dendrogram = shc.dendrogram((shc.linkage(starbucks, method ='complete'))) "
      ],
      "metadata": {
        "colab": {
          "base_uri": "https://localhost:8080/",
          "height": 393
        },
        "id": "ULFCeHu7EcbE",
        "outputId": "cb73a0be-da07-41eb-b570-1977efab50b5"
      },
      "execution_count": null,
      "outputs": [
        {
          "output_type": "display_data",
          "data": {
            "text/plain": [
              "<Figure size 432x432 with 1 Axes>"
            ],
            "image/png": "[encoded data removed]"
          },
          "metadata": {
            "needs_background": "light"
          }
        }
      ]
    }
  ]
}